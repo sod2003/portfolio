{
 "cells": [
  {
   "cell_type": "markdown",
   "id": "88a71171",
   "metadata": {},
   "source": [
    "# Optimizing Code: Holiday Gifts\n",
    "In the last example, you learned that using vectorized operations and more efficient data structures can optimize your code. Let's use these tips for one more example.\n",
    "\n",
    "Say your online gift store has one million users that each listed a gift on a wish list. You have the prices for each of these gifts stored in `gift_costs.txt`. For the holidays, you're going to give each customer their wish list gift for free if it is under 25 dollars. Now, you want to calculate the total cost of all gifts under 25 dollars to see how much you'd spend on free gifts. Here's one way you could've done it."
   ]
  },
  {
   "cell_type": "code",
   "execution_count": 7,
   "id": "587d8bef",
   "metadata": {},
   "outputs": [],
   "source": [
    "import time\n",
    "import numpy as np"
   ]
  },
  {
   "cell_type": "code",
   "execution_count": 12,
   "id": "effebc77",
   "metadata": {},
   "outputs": [],
   "source": [
    "with open('gift_costs.txt') as f:\n",
    "    gift_costs = f.read().split('\\n')\n",
    "    \n",
    "gift_costs = np.array(gift_costs).astype(int)  # convert string to int\""
   ]
  },
  {
   "cell_type": "code",
   "execution_count": 13,
   "id": "f609e481",
   "metadata": {},
   "outputs": [
    {
     "name": "stdout",
     "output_type": "stream",
     "text": [
      "11294070.839999763\n",
      "Duration: 2.863337516784668 seconds\n"
     ]
    }
   ],
   "source": [
    "start = time.time()\n",
    "\n",
    "total_price = 0\n",
    "for cost in gift_costs:\n",
    "    if cost < 25:\n",
    "        total_price += cost * 1.08  # add cost after tax\n",
    "\n",
    "print(total_price)\n",
    "print('Duration: {} seconds'.format(time.time() - start))"
   ]
  },
  {
   "cell_type": "markdown",
   "id": "f7d9918c",
   "metadata": {},
   "source": [
    "## Refactor Code"
   ]
  },
  {
   "cell_type": "code",
   "execution_count": 14,
   "id": "f55554f3",
   "metadata": {},
   "outputs": [
    {
     "name": "stdout",
     "output_type": "stream",
     "text": [
      "11294070.84\n",
      "Duration: 0.030916690826416016 seconds\n"
     ]
    }
   ],
   "source": [
    "start = time.time()\n",
    "\n",
    "total_price =  (gift_costs[gift_costs < 25]).sum() * 1.08\n",
    "\n",
    "print(total_price)\n",
    "print('Duration: {} seconds'.format(time.time() - start))"
   ]
  },
  {
   "cell_type": "code",
   "execution_count": null,
   "id": "8d7fcf53",
   "metadata": {},
   "outputs": [],
   "source": []
  }
 ],
 "metadata": {
  "kernelspec": {
   "display_name": "Python 3 (ipykernel)",
   "language": "python",
   "name": "python3"
  },
  "language_info": {
   "codemirror_mode": {
    "name": "ipython",
    "version": 3
   },
   "file_extension": ".py",
   "mimetype": "text/x-python",
   "name": "python",
   "nbconvert_exporter": "python",
   "pygments_lexer": "ipython3",
   "version": "3.8.1"
  }
 },
 "nbformat": 4,
 "nbformat_minor": 5
}
